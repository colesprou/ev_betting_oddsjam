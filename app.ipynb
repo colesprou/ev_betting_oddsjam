{
 "cells": [
  {
   "cell_type": "code",
   "execution_count": 8,
   "id": "77c9e249",
   "metadata": {},
   "outputs": [
    {
     "name": "stdout",
     "output_type": "stream",
     "text": [
      " * Serving Flask app '__main__'\n",
      " * Debug mode: on\n"
     ]
    },
    {
     "name": "stderr",
     "output_type": "stream",
     "text": [
      "WARNING: This is a development server. Do not use it in a production deployment. Use a production WSGI server instead.\n",
      " * Running on http://127.0.0.1:5000\n",
      "Press CTRL+C to quit\n",
      " * Restarting with watchdog (fsevents)\n",
      "Traceback (most recent call last):\n",
      "  File \"/Users/colesprouse/anaconda3/lib/python3.11/site-packages/ipykernel_launcher.py\", line 15, in <module>\n",
      "    from ipykernel import kernelapp as app\n",
      "  File \"/Users/colesprouse/anaconda3/lib/python3.11/site-packages/ipykernel/__init__.py\", line 5, in <module>\n",
      "    from .connect import *  # noqa\n",
      "    ^^^^^^^^^^^^^^^^^^^^^^\n",
      "  File \"/Users/colesprouse/anaconda3/lib/python3.11/site-packages/ipykernel/connect.py\", line 11, in <module>\n",
      "    import jupyter_client\n",
      "  File \"/Users/colesprouse/anaconda3/lib/python3.11/site-packages/jupyter_client/__init__.py\", line 3, in <module>\n",
      "    from .asynchronous import AsyncKernelClient\n",
      "  File \"/Users/colesprouse/anaconda3/lib/python3.11/site-packages/jupyter_client/asynchronous/__init__.py\", line 1, in <module>\n",
      "    from .client import AsyncKernelClient  # noqa\n",
      "    ^^^^^^^^^^^^^^^^^^^^^^^^^^^^^^^^^^^^^\n",
      "  File \"/Users/colesprouse/anaconda3/lib/python3.11/site-packages/jupyter_client/asynchronous/client.py\", line 8, in <module>\n",
      "    from ..channels import AsyncZMQSocketChannel, HBChannel\n",
      "  File \"/Users/colesprouse/anaconda3/lib/python3.11/site-packages/jupyter_client/channels.py\", line 12, in <module>\n",
      "    from jupyter_core.utils import ensure_async\n",
      "  File \"/Users/colesprouse/anaconda3/lib/python3.11/site-packages/jupyter_core/utils/__init__.py\", line 12, in <module>\n",
      "    from pathlib import Path\n",
      "  File \"/Users/colesprouse/anaconda3/lib/python3.11/site-packages/pathlib.py\", line 10, in <module>\n",
      "    from collections import Sequence\n",
      "ImportError: cannot import name 'Sequence' from 'collections' (/Users/colesprouse/anaconda3/lib/python3.11/collections/__init__.py)\n"
     ]
    },
    {
     "ename": "SystemExit",
     "evalue": "1",
     "output_type": "error",
     "traceback": [
      "An exception has occurred, use %tb to see the full traceback.\n",
      "\u001b[0;31mSystemExit\u001b[0m\u001b[0;31m:\u001b[0m 1\n"
     ]
    }
   ],
   "source": [
    "from flask import Flask, render_template, request\n",
    "import sqlite3\n",
    "import pandas as pd\n",
    "from betting_functions import load_api_key, fetch_sports_markets, save_to_sql\n",
    "\n",
    "app = Flask(__name__)\n",
    "\n",
    "# Connect to the SQLite database (replace with your own database file)\n",
    "db_path = 'betting_data.db'\n",
    "\n",
    "# Load the API Key from file\n",
    "api_key = load_api_key('api_key.txt')\n",
    "\n",
    "@app.route('/')\n",
    "def index():\n",
    "    return render_template('index.html')\n",
    "\n",
    "@app.route('/results', methods=['POST'])\n",
    "def results():\n",
    "    # Get input data from the form\n",
    "    sport = request.form['sport']\n",
    "    league = request.form['league']\n",
    "    market_type = request.form['market_type']\n",
    "\n",
    "    # Fetch the game and player markets using the input parameters\n",
    "    game_ids = get_todays_game_ids(api_key, league)\n",
    "    game_data = fetch_game_data(game_ids, api_key, market_type=market_type, sport=sport, league=league, sportsbooks=['Pinnacle', 'Caesars'])\n",
    "\n",
    "    # Filter data and calculate EV\n",
    "    ev_bets = find_plus_ev_bets(game_data, threshold=5)\n",
    "\n",
    "    # Save unfiltered data to the SQL database\n",
    "    conn = sqlite3.connect(db_path)\n",
    "    save_to_sql(game_data, league, market_type, conn)\n",
    "    conn.close()\n",
    "\n",
    "    # Return the filtered data to the frontend\n",
    "    return render_template('results.html', tables=[ev_bets.to_html(classes='data', header=\"true\")])\n",
    "\n",
    "if __name__ == '__main__':\n",
    "    app.run(debug=True)\n"
   ]
  },
  {
   "cell_type": "code",
   "execution_count": null,
   "id": "f923606d",
   "metadata": {},
   "outputs": [],
   "source": []
  }
 ],
 "metadata": {
  "kernelspec": {
   "display_name": "Python 3 (ipykernel)",
   "language": "python",
   "name": "python3"
  },
  "language_info": {
   "codemirror_mode": {
    "name": "ipython",
    "version": 3
   },
   "file_extension": ".py",
   "mimetype": "text/x-python",
   "name": "python",
   "nbconvert_exporter": "python",
   "pygments_lexer": "ipython3",
   "version": "3.11.4"
  }
 },
 "nbformat": 4,
 "nbformat_minor": 5
}

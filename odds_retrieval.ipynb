{
 "cells": [
  {
   "cell_type": "code",
   "execution_count": 8,
   "id": "628f2539",
   "metadata": {},
   "outputs": [],
   "source": [
    "import requests\n",
    "import pandas as pd\n",
    "import logging\n",
    "from datetime import datetime, timedelta, timezone\n",
    "from OddsJamClient import OddsJamClient\n"
   ]
  },
  {
   "cell_type": "code",
   "execution_count": 9,
   "id": "43e499f3",
   "metadata": {},
   "outputs": [],
   "source": [
    "api_key_path = 'api_key.txt'\n",
    "\n",
    "def load_api_key(path):\n",
    "    with open(path, 'r') as file:\n",
    "        return file.readline().strip()\n",
    "\n",
    "api_key = load_api_key(api_key_path)\n"
   ]
  },
  {
   "cell_type": "code",
   "execution_count": 10,
   "id": "ce1e44e2",
   "metadata": {},
   "outputs": [],
   "source": [
    "def fetch_sports_markets(sport, league, api_key, sportsbook=['Pinnacle']):\n",
    "    url = \"https://api.opticodds.com/api/v3/markets\"\n",
    "    params = {\n",
    "        'sport': sport,\n",
    "        'league': league,\n",
    "        'key':api_key\n",
    "    }\n",
    "    \n",
    "    # Optional: Specify a sportsbook if required\n",
    "    if sportsbook:\n",
    "        params['sportsbook'] = sportsbook\n",
    "\n",
    "    headers = {'Authorization': f'Bearer {api_key}'}\n",
    "    \n",
    "    response = requests.get(url, params=params, headers=headers)\n",
    "    if response.status_code == 200:\n",
    "        data = response.json()\n",
    "        # Assuming the data is formatted in a list of markets, convert it into a DataFrame\n",
    "        markets_df = pd.DataFrame(data['data'])\n",
    "        return markets_df\n",
    "    else:\n",
    "        print(f\"Failed to fetch markets: {response.status_code} - {response.text}\")\n",
    "        return pd.DataFrame()\n",
    "def american_to_decimal(odds):\n",
    "    if odds > 0:\n",
    "        return (odds / 100) + 1\n",
    "    else:\n",
    "        return (100 / abs(odds)) + 1\n",
    "\n",
    "def implied_probability(decimal_odds):\n",
    "    return 1 / decimal_odds\n",
    "\n",
    "def remove_vig(implied_prob_a, implied_prob_b):\n",
    "    no_vig_prob_a = implied_prob_a / (implied_prob_a + implied_prob_b)\n",
    "    return no_vig_prob_a\n",
    "def adjust_for_vig(implied_prob, vig_reduction=0.02):\n",
    "    return implied_prob / (1 + vig_reduction)\n",
    "\n",
    "def calculate_ev(true_prob, odds, stake=100):\n",
    "    # Convert American odds to decimal odds\n",
    "    decimal_odds = american_to_decimal(odds)\n",
    "    \n",
    "    # Calculate profit if win\n",
    "    profit_if_win = (decimal_odds - 1) * stake\n",
    "    \n",
    "    # Calculate EV using the formula (True Probability * Profit if Win) - (Loss Probability * Stake)\n",
    "    loss_prob = 1 - true_prob\n",
    "    ev = (true_prob * profit_if_win) - (loss_prob * stake)\n",
    "    \n",
    "    return ev\n",
    "\n",
    "def power_method_de_vig(prob, power=0.98):  # Use a more moderate power value\n",
    "    return prob ** power\n",
    "\n",
    "def find_plus_ev_bets(df, thresh):\n",
    "    caesars_df = df[df['Sportsbook'] == 'Caesars']\n",
    "    pinnacle_df = df[df['Sportsbook'] == 'Pinnacle']\n",
    "    betmgm_df = df[df['Sportsbook'] == 'BetMGM']\n",
    "\n",
    "    betmgm_df = betmgm_df.rename(columns={'Odds': 'Odds_betmgm', 'line': 'line_betmgm'})\n",
    "\n",
    "    merged_df = pd.merge(caesars_df, pinnacle_df, on=['Game ID', 'Bet Name', 'Market Name'], suffixes=('_caesars', '_pinnacle'))\n",
    "\n",
    "    merged_df = pd.merge(merged_df, betmgm_df, on=['Game ID', 'Bet Name', 'Market Name'], how='left')\n",
    "\n",
    "    \n",
    "    merged_df['decimal_odds_caesars'] = merged_df['Odds_caesars'].apply(american_to_decimal)\n",
    "    merged_df['decimal_odds_pinnacle'] = merged_df['Odds_pinnacle'].apply(american_to_decimal)\n",
    "    merged_df['decimal_odds_betmgm'] = merged_df['Odds_betmgm'].apply(american_to_decimal)\n",
    "    \n",
    "    merged_df['implied_prob_caesars'] = merged_df['decimal_odds_caesars'].apply(implied_probability)\n",
    "    merged_df['implied_prob_pinnacle'] = merged_df['decimal_odds_pinnacle'].apply(implied_probability)\n",
    "    merged_df['implied_prob_betmgm'] = merged_df['decimal_odds_betmgm'].apply(implied_probability)\n",
    "\n",
    "    merged_df['true_prob_pinnacle'] = merged_df['implied_prob_pinnacle'].apply(lambda prob: adjust_for_vig(prob, 0.02))  # Assuming 2% is the vig you want to remove\n",
    "\n",
    "    \n",
    "    merged_df['EV_caesars'] = merged_df.apply(\n",
    "        lambda row: calculate_ev(row['true_prob_pinnacle'], row['Odds_caesars']) \n",
    "        if row['true_prob_pinnacle'] > row['implied_prob_caesars']  \n",
    "        else -1, \n",
    "        axis=1)\n",
    "\n",
    "    merged_df['EV_betmgm'] = merged_df.apply(\n",
    "        lambda row: calculate_ev(row['true_prob_pinnacle'], row['Odds_betmgm']) \n",
    "        if row['true_prob_pinnacle'] > row['implied_prob_betmgm']  \n",
    "        else -1, \n",
    "        axis=1)\n",
    "\n",
    "    positive_ev_bets = merged_df[(merged_df['EV_caesars'] > thresh) | (merged_df['EV_betmgm'] > thresh)]\n",
    "    \n",
    "    return positive_ev_bets\n",
    "\n",
    "def fetch_game_data(game_ids, markets, sportsbooks, include_player_name=True):\n",
    "    URL = \"https://api-external.oddsjam.com/api/v2/game-odds\"\n",
    "    API_KEY = api_key\n",
    "    all_data = []\n",
    "\n",
    "    for chunk in [game_ids[i:i + 5] for i in range(0, len(game_ids), 5)]:\n",
    "        for sportsbook in sportsbooks:\n",
    "            params = {\n",
    "                'key': API_KEY,\n",
    "                'sportsbook': sportsbook,\n",
    "                'game_id': chunk,\n",
    "                'market_name': markets\n",
    "            }\n",
    "            response = requests.get(URL, params=params)\n",
    "            if response.status_code == 200:\n",
    "                data = response.json().get('data', [])\n",
    "                all_data.extend(data)\n",
    "            else:\n",
    "                logging.error(\"Error fetching data: %s - %s\", response.status_code, response.text)\n",
    "    rows = []\n",
    "    for game_data in all_data:\n",
    "        home_team = game_data.get('home_team', 'Unknown')\n",
    "        away_team = game_data.get('away_team', 'Unknown')\n",
    "        odds_list = game_data.get('odds', [])\n",
    "            \n",
    "        for item in odds_list:\n",
    "            market_name = item.get('market_name', '')\n",
    "            sportsbook_name = item.get('sports_book_name', sportsbook)\n",
    "            if market_name not in markets:\n",
    "                continue\n",
    "\n",
    "            row = {\n",
    "                'Game ID': game_data.get('id', 'Unknown'),\n",
    "                \"Game Name\": home_team+\" vs \"+away_team,\n",
    "                \"Bet Name\":item.get('name',None),\n",
    "                'Market Name': market_name,\n",
    "                'Sportsbook': sportsbook_name,\n",
    "                'line':item.get('bet_points',None),\n",
    "                'Odds': item.get('price', None),\n",
    "            }\n",
    "\n",
    "            if include_player_name:\n",
    "                player_name = item.get('selection', 'Unknown')\n",
    "                row['Player Name'] = player_name\n",
    "\n",
    "            rows.append(row)\n",
    "\n",
    "    return pd.DataFrame(rows)\n"
   ]
  },
  {
   "cell_type": "markdown",
   "id": "8d8678c3",
   "metadata": {},
   "source": [
    "### MLB"
   ]
  },
  {
   "cell_type": "code",
   "execution_count": 11,
   "id": "9ce3f44d",
   "metadata": {},
   "outputs": [],
   "source": [
    "def get_todays_game_ids():\n",
    "    \n",
    "    Client = OddsJamClient(api_key)\n",
    "    Client.UseV2()\n",
    "    \n",
    "    # Get games for the league\n",
    "    GamesResponse = Client.GetGames(league='mlb')\n",
    "    Games = GamesResponse.Games\n",
    "    \n",
    "    # Filter games based on today's date\n",
    "    games_data = [{'game_id': game.id, 'start_date': game.start_date} for game in Games]\n",
    "    games_df = pd.DataFrame(games_data)\n",
    "    games_df['start_date'] = pd.to_datetime(games_df['start_date'])\n",
    "    #today = datetime.now().date()\n",
    "    #todays_games = games_df[games_df['start_date'].dt.date == today]\n",
    "    \n",
    "    return games_df['game_id'].tolist()\n",
    "\n",
    "    \n",
    "\n",
    "\n",
    "def fetch_player_props(game_ids):\n",
    "    player_markets = [\n",
    "        \"Player Hits Allowed\", \"Player Strikeouts\", \"Player Home Runs\",\n",
    "        \"Player Bases\", \"Player Home Runs Yes/No\", \"Player Outs\", \"Player Earned Runs\"\n",
    "    ]\n",
    "    return fetch_game_data(game_ids, player_markets, ['Pinnacle','BetMGM','Caesars'], include_player_name=True)\n",
    "\n",
    "def fetch_game_props(game_ids):\n",
    "    game_markets = [\n",
    "        \"Team Total\", \"1st Half Team Total\", \"1st Half Moneyline\", \"Moneyline\",\n",
    "        \"No Runs First Inning\", \"1st Inning Moneyline 3-Way\", \"1st Half Run Line\",\n",
    "        \"Total Runs\", \"1st Inning Total Runs\", \"1st Half Total Runs\", \"Run Line\",\n",
    "        \"1st Inning Run Line\", \"Total Hits + Runs + Errors\"\n",
    "    ]\n",
    "    return fetch_game_data(game_ids, game_markets, ['Pinnacle','BetMGM','Caesars'], include_player_name=False)\n"
   ]
  },
  {
   "cell_type": "code",
   "execution_count": 12,
   "id": "ad9a7349",
   "metadata": {},
   "outputs": [],
   "source": [
    "todays_ids = get_todays_game_ids()\n",
    "pdf = fetch_player_props(game_ids=todays_ids)\n",
    "gdf = fetch_game_props(todays_ids)"
   ]
  },
  {
   "cell_type": "code",
   "execution_count": 13,
   "id": "7e371895",
   "metadata": {},
   "outputs": [],
   "source": [
    "evdf = find_plus_ev_bets(pdf,thresh=5)\n",
    "game_evdf = find_plus_ev_bets(gdf,thresh=5)\n",
    "\n",
    "betmgmdf = evdf[['Game ID','Bet Name',\"Game Name\",'Market Name','line_betmgm','Odds_betmgm','line_pinnacle','Odds_pinnacle','EV_betmgm']]\n",
    "betmgmdf = betmgmdf.sort_values('EV_betmgm',ascending=False)\n",
    "caesarsdf_mlb_player = evdf[['Game ID','Bet Name',\"Game Name\",'Market Name','line_caesars','Odds_caesars','line_pinnacle','Odds_pinnacle','EV_caesars']]\n",
    "caesars_gdf = game_evdf[['Game ID','Bet Name',\"Game Name\",'Market Name','line_caesars','Odds_caesars','line_pinnacle','Odds_pinnacle','EV_caesars']]"
   ]
  },
  {
   "cell_type": "code",
   "execution_count": 14,
   "id": "05772da2",
   "metadata": {},
   "outputs": [],
   "source": [
    "pd.set_option('display.max_rows',100)"
   ]
  },
  {
   "cell_type": "code",
   "execution_count": 15,
   "id": "0587db77",
   "metadata": {},
   "outputs": [],
   "source": [
    "caesarsdf = caesarsdf.sort_values('EV_caesars',ascending=False)"
   ]
  },
  {
   "cell_type": "code",
   "execution_count": 16,
   "id": "5ee6f0ff",
   "metadata": {},
   "outputs": [],
   "source": [
    "#caesarsdf.to_csv('caesars_mlb_plays.csv',index=False)"
   ]
  },
  {
   "cell_type": "code",
   "execution_count": null,
   "id": "8d36dbe7",
   "metadata": {},
   "outputs": [],
   "source": []
  },
  {
   "cell_type": "markdown",
   "id": "8eecb22d",
   "metadata": {},
   "source": [
    "### NCAAF"
   ]
  },
  {
   "cell_type": "code",
   "execution_count": 24,
   "id": "c0957e15",
   "metadata": {},
   "outputs": [],
   "source": [
    "## NCAA Football\n",
    "def get_ncaa_game_ids():\n",
    "    # Endpoint\n",
    "    endpoint = \"https://api-external.oddsjam.com/api/v2/games\"\n",
    "\n",
    "    # Current week date range\n",
    "    today = datetime.now(timezone.utc)\n",
    "    start_date = today.isoformat()\n",
    "\n",
    "\n",
    "    # Calculate the upcoming Monday or today if it's Monday\n",
    "    days_until_monday = (7 - today.weekday()) % 7\n",
    "    monday = today + timedelta(days=days_until_monday)\n",
    "    \n",
    "    # Set time to 11:59 pm and adjust for CST (UTC-6)\n",
    "    end_date_cst = (monday + timedelta(days=1)).replace(hour=5, minute=59, second=59, microsecond=0, tzinfo=timezone.utc)\n",
    "    # Parameters\n",
    "    params = {\n",
    "        \"key\": api_key,\n",
    "        \"sport\": \"football\",\n",
    "        \"league\": \"NCAAF\",\n",
    "        \"start_date_after\": start_date,\n",
    "        \"start_date_before\": end_date_cst.isoformat()\n",
    "    }\n",
    "\n",
    "    # Make the request\n",
    "    response = requests.get(endpoint, params=params)\n",
    "\n",
    "    # Check response\n",
    "    if response.status_code != 200:\n",
    "        print(f\"Error: {response.status_code}\")\n",
    "        return None\n",
    "\n",
    "    data = response.json()\n",
    "    game_ids = [game['id'] for game in data['data']]\n",
    "    return game_ids\n"
   ]
  },
  {
   "cell_type": "code",
   "execution_count": 25,
   "id": "74762e4e",
   "metadata": {},
   "outputs": [],
   "source": [
    "# Example usage\n",
    "api_key = api_key\n",
    "ncaaf_markets = fetch_sports_markets('football', 'NCAAF', api_key)\n",
    "ncaa_ids = get_ncaa_game_ids()\n",
    "ncaaf_markets = ncaaf_markets['name'].tolist()\n",
    "ncaaf_df = fetch_game_data(ncaa_ids,ncaaf_markets,['Pinnacle','BetMGM','Caesars'])\n",
    "ncaaf_df_ev = find_plus_ev_bets(ncaaf_df,thresh=5)\n",
    "betmgmdf_ncaa = ncaaf_df_ev[['Game ID','Bet Name',\"Game Name\",'Market Name','line_betmgm','Odds_betmgm','line_pinnacle','Odds_pinnacle','EV_betmgm']]\n",
    "betmgmdf_ncaa = betmgmdf_ncaa.sort_values('EV_betmgm',ascending=False)\n"
   ]
  },
  {
   "cell_type": "code",
   "execution_count": 26,
   "id": "d2a4e0ac",
   "metadata": {},
   "outputs": [],
   "source": [
    "caesars_ncaa = ncaaf_df_ev[['Game ID','Bet Name',\"Game Name\",'Market Name','line_caesars','Odds_caesars','line_pinnacle','Odds_pinnacle','EV_caesars']]\n",
    "caesars_ncaa = caesars_ncaa.sort_values('EV_caesars',ascending=False)\n"
   ]
  },
  {
   "cell_type": "code",
   "execution_count": 20,
   "id": "f565888f",
   "metadata": {},
   "outputs": [],
   "source": [
    "#caesars_ncaa.to_csv('caesars_ncaaf_game_bets_9_20.csv',index=False,header=True)"
   ]
  },
  {
   "cell_type": "markdown",
   "id": "dac9eed5",
   "metadata": {},
   "source": [
    "### Soccer"
   ]
  },
  {
   "cell_type": "code",
   "execution_count": 38,
   "id": "de0a0bb9",
   "metadata": {},
   "outputs": [
    {
     "data": {
      "text/plain": [
       "'\\ndef get_soccer_game_ids(league):\\n    # Endpoint\\n    endpoint = \"https://api-external.oddsjam.com/api/v2/games\"\\n\\n    # Current week date range\\n    today = datetime.now(timezone.utc)\\n    start_date = today.isoformat()\\n\\n\\n    # Calculate the upcoming Monday or today if it\\'s Monday\\n    days_until_monday = (7 - today.weekday()) % 7\\n    monday = today + timedelta(days=days_until_monday)\\n    \\n    # Set time to 11:59 pm and adjust for CST (UTC-6)\\n    end_date_cst = (monday + timedelta(days=1)).replace(hour=5, minute=59, second=59, microsecond=0, tzinfo=timezone.utc)\\n    # Parameters\\n    params = {\\n        \"key\": api_key,\\n        \"sport\": \\'Soccer (Football)\\',\\n        \"league\": league,\\n        \"start_date_after\": start_date,\\n        \"start_date_before\": end_date_cst.isoformat()\\n    }\\n\\n    # Make the request\\n    response = requests.get(endpoint, params=params)\\n\\n    # Check response\\n    if response.status_code != 200:\\n        print(f\"Error: {response.status_code}\")\\n        return None\\n\\n    data = response.json()\\n    game_ids = [game[\\'id\\'] for game in data[\\'data\\']]\\n    return game_ids\\n\\n'"
      ]
     },
     "execution_count": 38,
     "metadata": {},
     "output_type": "execute_result"
    }
   ],
   "source": [
    "\"\"\"\n",
    "def get_soccer_game_ids(league):\n",
    "    # Endpoint\n",
    "    endpoint = \"https://api-external.oddsjam.com/api/v2/games\"\n",
    "\n",
    "    # Current week date range\n",
    "    today = datetime.now(timezone.utc)\n",
    "    start_date = today.isoformat()\n",
    "\n",
    "\n",
    "    # Calculate the upcoming Monday or today if it's Monday\n",
    "    days_until_monday = (7 - today.weekday()) % 7\n",
    "    monday = today + timedelta(days=days_until_monday)\n",
    "    \n",
    "    # Set time to 11:59 pm and adjust for CST (UTC-6)\n",
    "    end_date_cst = (monday + timedelta(days=1)).replace(hour=5, minute=59, second=59, microsecond=0, tzinfo=timezone.utc)\n",
    "    # Parameters\n",
    "    params = {\n",
    "        \"key\": api_key,\n",
    "        \"sport\": 'Soccer (Football)',\n",
    "        \"league\": league,\n",
    "        \"start_date_after\": start_date,\n",
    "        \"start_date_before\": end_date_cst.isoformat()\n",
    "    }\n",
    "\n",
    "    # Make the request\n",
    "    response = requests.get(endpoint, params=params)\n",
    "\n",
    "    # Check response\n",
    "    if response.status_code != 200:\n",
    "        print(f\"Error: {response.status_code}\")\n",
    "        return None\n",
    "\n",
    "    data = response.json()\n",
    "    game_ids = [game['id'] for game in data['data']]\n",
    "    return game_ids\n",
    "\n",
    "\"\"\"\n"
   ]
  },
  {
   "cell_type": "code",
   "execution_count": 37,
   "id": "ec62f3b4",
   "metadata": {},
   "outputs": [
    {
     "data": {
      "text/plain": [
       "'\\nleagues = [\\'Germany - Bundesliga\\', \\'Italy - Serie A\\', \\'Spain - La Liga\\']\\n\\ncaesars_soccer_final = pd.DataFrame()\\n\\nfor league in leagues:\\n    soccer_ids = get_soccer_game_ids(league)\\n    soccer_markets = fetch_sports_markets(\\'Soccer\\', league, api_key, sportsbook=[\\'Pinnacle\\'])\\n    soccer_df = fetch_game_data(soccer_ids, soccer_markets, [\\'Pinnacle\\', \\'BetMGM\\', \\'Caesars\\'])\\n    soccer_df_ev = find_plus_ev_bets(soccer_df, thresh=5)\\n    caesars_soccer = soccer_df_ev[[\\'Game ID\\', \\'Bet Name\\', \"Game Name\", \\'Market Name\\', \\'line_caesars\\', \\'Odds_caesars\\', \\'line_pinnacle\\', \\'Odds_pinnacle\\', \\'EV_caesars\\']]\\n    caesars_soccer = caesars_soccer.sort_values(\\'EV_caesars\\', ascending=False)\\n    caesars_soccer_final = caesars_soccer_final.append(caesars_soccer, ignore_index=True)\\n\\n'"
      ]
     },
     "execution_count": 37,
     "metadata": {},
     "output_type": "execute_result"
    }
   ],
   "source": [
    "\"\"\"\n",
    "leagues = ['Germany - Bundesliga', 'Italy - Serie A', 'Spain - La Liga']\n",
    "\n",
    "caesars_soccer_final = pd.DataFrame()\n",
    "\n",
    "for league in leagues:\n",
    "    soccer_ids = get_soccer_game_ids(league)\n",
    "    soccer_markets = fetch_sports_markets('Soccer', league, api_key, sportsbook=['Pinnacle'])\n",
    "    soccer_df = fetch_game_data(soccer_ids, soccer_markets, ['Pinnacle', 'BetMGM', 'Caesars'])\n",
    "    soccer_df_ev = find_plus_ev_bets(soccer_df, thresh=5)\n",
    "    caesars_soccer = soccer_df_ev[['Game ID', 'Bet Name', \"Game Name\", 'Market Name', 'line_caesars', 'Odds_caesars', 'line_pinnacle', 'Odds_pinnacle', 'EV_caesars']]\n",
    "    caesars_soccer = caesars_soccer.sort_values('EV_caesars', ascending=False)\n",
    "    caesars_soccer_final = caesars_soccer_final.append(caesars_soccer, ignore_index=True)\n",
    "\n",
    "\"\"\"\n",
    "\n"
   ]
  },
  {
   "cell_type": "markdown",
   "id": "432fb5f6",
   "metadata": {},
   "source": [
    "### NFL"
   ]
  },
  {
   "cell_type": "code",
   "execution_count": 39,
   "id": "771ea6ae",
   "metadata": {},
   "outputs": [],
   "source": [
    "## NFL\n",
    "def get_nfl_game_ids():\n",
    "    # Endpoint\n",
    "    endpoint = \"https://api-external.oddsjam.com/api/v2/games\"\n",
    "\n",
    "    # Current week date range\n",
    "    today = datetime.now(timezone.utc)\n",
    "    start_date = today.isoformat()\n",
    "\n",
    "\n",
    "    # Calculate the upcoming Monday or today if it's Monday\n",
    "    days_until_monday = (7 - today.weekday()) % 7\n",
    "    monday = today + timedelta(days=days_until_monday)\n",
    "    \n",
    "    # Set time to 11:59 pm and adjust for CST (UTC-6)\n",
    "    end_date_cst = (monday + timedelta(days=1)).replace(hour=5, minute=59, second=59, microsecond=0, tzinfo=timezone.utc)\n",
    "    # Parameters\n",
    "    params = {\n",
    "        \"key\": api_key,\n",
    "        \"sport\": \"football\",\n",
    "        \"league\": \"NFL\",\n",
    "        \"start_date_after\": start_date,\n",
    "        \"start_date_before\": end_date_cst.isoformat()\n",
    "    }\n",
    "\n",
    "    # Make the request\n",
    "    response = requests.get(endpoint, params=params)\n",
    "\n",
    "    # Check response\n",
    "    if response.status_code != 200:\n",
    "        print(f\"Error: {response.status_code}\")\n",
    "        return None\n",
    "\n",
    "    data = response.json()\n",
    "    game_ids = [game['id'] for game in data['data']]\n",
    "    return game_ids\n"
   ]
  },
  {
   "cell_type": "code",
   "execution_count": 40,
   "id": "0cca4310",
   "metadata": {},
   "outputs": [],
   "source": [
    "nfl_markets= fetch_sports_markets('Football', 'NFL', api_key, sportsbook=['Pinnacle'])['name'].tolist()\n",
    "nfl_player_markets = [market for market in nfl_markets if 'Player' in market]\n",
    "nfl_game_markets = [market for market in nfl_markets if 'Player' not in market]"
   ]
  },
  {
   "cell_type": "code",
   "execution_count": 41,
   "id": "47f11dcf",
   "metadata": {},
   "outputs": [],
   "source": [
    "nfl_ids = get_nfl_game_ids()"
   ]
  },
  {
   "cell_type": "code",
   "execution_count": 42,
   "id": "fadd8c29",
   "metadata": {},
   "outputs": [],
   "source": [
    "nfl_gdf = fetch_game_data(nfl_ids,nfl_game_markets,['Pinnacle','BetMGM','Caesars'])\n",
    "nfl_pdf = fetch_game_data(nfl_ids,nfl_player_markets,['Pinnacle','BetMGM','Caesars'])"
   ]
  },
  {
   "cell_type": "code",
   "execution_count": 43,
   "id": "19251af0",
   "metadata": {},
   "outputs": [],
   "source": [
    "nfl_gdf_ev = find_plus_ev_bets(nfl_gdf,thresh=5)\n",
    "nfl_pdf_ev = find_plus_ev_bets(nfl_pdf,thresh=5)"
   ]
  },
  {
   "cell_type": "code",
   "execution_count": 44,
   "id": "9e04ccec",
   "metadata": {},
   "outputs": [],
   "source": [
    "nfl_gdf_ev = nfl_gdf_ev[['Game ID','Bet Name',\"Game Name\",'Market Name','line_caesars','Odds_caesars','line_pinnacle','Odds_pinnacle','EV_caesars']]\n",
    "nfl_pdf_ev = nfl_pdf_ev[['Game ID','Bet Name',\"Game Name\",'Market Name','line_caesars','Odds_caesars','line_pinnacle','Odds_pinnacle','EV_caesars']]"
   ]
  },
  {
   "cell_type": "code",
   "execution_count": 46,
   "id": "ebb0439e",
   "metadata": {},
   "outputs": [],
   "source": [
    "caesars_master = pd.concat([nfl_gdf_ev,nfl_pdf_ev,caesars_ncaa,caesarsdf_mlb_player,caesars_gdf])"
   ]
  },
  {
   "cell_type": "code",
   "execution_count": 54,
   "id": "33f1cf3a",
   "metadata": {},
   "outputs": [],
   "source": [
    "caesars_filt = caesars_master[(abs(caesars_master['Odds_caesars']) > 100) & (abs(caesars_master['Odds_caesars']) < 1000)]\n"
   ]
  },
  {
   "cell_type": "code",
   "execution_count": 55,
   "id": "ca7b50da",
   "metadata": {},
   "outputs": [],
   "source": [
    "caesars_filtered = caesars_filt[caesars_filt.EV_caesars > 5]"
   ]
  },
  {
   "cell_type": "code",
   "execution_count": 58,
   "id": "474a1ca2",
   "metadata": {},
   "outputs": [],
   "source": [
    "caesars_final_notification = caesars_filtered.sort_values('EV_caesars',ascending=False)"
   ]
  },
  {
   "cell_type": "code",
   "execution_count": null,
   "id": "7693560a",
   "metadata": {},
   "outputs": [],
   "source": []
  }
 ],
 "metadata": {
  "kernelspec": {
   "display_name": "Python 3 (ipykernel)",
   "language": "python",
   "name": "python3"
  },
  "language_info": {
   "codemirror_mode": {
    "name": "ipython",
    "version": 3
   },
   "file_extension": ".py",
   "mimetype": "text/x-python",
   "name": "python",
   "nbconvert_exporter": "python",
   "pygments_lexer": "ipython3",
   "version": "3.11.4"
  }
 },
 "nbformat": 4,
 "nbformat_minor": 5
}

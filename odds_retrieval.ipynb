{
 "cells": [
  {
   "cell_type": "code",
   "execution_count": 113,
   "id": "43e499f3",
   "metadata": {},
   "outputs": [
    {
     "name": "stdout",
     "output_type": "stream",
     "text": [
      "API Key loaded successfully!\n"
     ]
    }
   ],
   "source": [
    "api_key_path = 'api_key.txt'\n",
    "\n",
    "def load_api_key(path):\n",
    "    with open(path, 'r') as file:\n",
    "        return file.readline().strip()\n",
    "\n",
    "api_key = load_api_key(api_key_path)\n"
   ]
  },
  {
   "cell_type": "code",
   "execution_count": 119,
   "id": "ce1e44e2",
   "metadata": {},
   "outputs": [],
   "source": [
    "import requests\n",
    "import pandas as pd\n",
    "import logging\n",
    "def get_todays_game_ids():\n",
    "    \n",
    "    Client = OddsJamClient(api_key)\n",
    "    Client.UseV2()\n",
    "    \n",
    "    # Get games for the league\n",
    "    GamesResponse = Client.GetGames(league='mlb')\n",
    "    Games = GamesResponse.Games\n",
    "    \n",
    "    # Filter games based on today's date\n",
    "    games_data = [{'game_id': game.id, 'start_date': game.start_date} for game in Games]\n",
    "    games_df = pd.DataFrame(games_data)\n",
    "    games_df['start_date'] = pd.to_datetime(games_df['start_date'])\n",
    "    #today = datetime.now().date()\n",
    "    #todays_games = games_df[games_df['start_date'].dt.date == today]\n",
    "    \n",
    "    return games_df['game_id'].tolist()\n",
    "\n",
    "def fetch_game_data(game_ids, markets, sportsbooks, include_player_name=True):\n",
    "    URL = \"https://api-external.oddsjam.com/api/v2/game-odds\"\n",
    "    API_KEY = api_key\n",
    "    all_data = []\n",
    "\n",
    "    for chunk in [game_ids[i:i + 5] for i in range(0, len(game_ids), 5)]:\n",
    "        for sportsbook in sportsbooks:\n",
    "            params = {\n",
    "                'key': API_KEY,\n",
    "                'sportsbook': sportsbook,\n",
    "                'game_id': chunk,\n",
    "                'market_name': markets\n",
    "            }\n",
    "            response = requests.get(URL, params=params)\n",
    "            if response.status_code == 200:\n",
    "                data = response.json().get('data', [])\n",
    "                all_data.extend(data)\n",
    "            else:\n",
    "                logging.error(\"Error fetching data: %s - %s\", response.status_code, response.text)\n",
    "\n",
    "    rows = []\n",
    "    for game_data in all_data:\n",
    "        home_team = game_data.get('home_team', 'Unknown')\n",
    "        away_team = game_data.get('away_team', 'Unknown')\n",
    "        odds_list = game_data.get('odds', [])\n",
    "            \n",
    "        for item in odds_list:\n",
    "            market_name = item.get('market_name', '')\n",
    "            sportsbook_name = item.get('sports_book_name', sportsbook)\n",
    "            if market_name not in markets:\n",
    "                continue\n",
    "\n",
    "            row = {\n",
    "                'Game ID': game_data.get('id', 'Unknown'),\n",
    "                \"Bet Name\":item.get('name',None),\n",
    "                'Market Name': market_name,\n",
    "                'Sportsbook': sportsbook_name,\n",
    "                'line':item.get('bet_points',None),\n",
    "                'Odds': item.get('price', None),\n",
    "            }\n",
    "\n",
    "            if include_player_name:\n",
    "                player_name = item.get('selection', 'Unknown')\n",
    "                row['Player Name'] = player_name\n",
    "\n",
    "            rows.append(row)\n",
    "\n",
    "    return pd.DataFrame(rows)\n",
    "\n",
    "def fetch_player_props(game_ids):\n",
    "    player_markets = [\n",
    "        \"Player Hits Allowed\", \"Player Strikeouts\", \"Player Home Runs\",\n",
    "        \"Player Bases\", \"Player Home Runs Yes/No\", \"Player Outs\", \"Player Earned Runs\"\n",
    "    ]\n",
    "    return fetch_game_data(game_ids, player_markets, ['Pinnacle'], include_player_name=True)\n",
    "\n",
    "def fetch_game_props(game_ids):\n",
    "    game_markets = [\n",
    "        \"Team Total\", \"1st Half Team Total\", \"1st Half Moneyline\", \"Moneyline\",\n",
    "        \"No Runs First Inning\", \"1st Inning Moneyline 3-Way\", \"1st Half Run Line\",\n",
    "        \"Total Runs\", \"1st Inning Total Runs\", \"1st Half Total Runs\", \"Run Line\",\n",
    "        \"1st Inning Run Line\", \"Total Hits + Runs + Errors\"\n",
    "    ]\n",
    "    return fetch_game_data(game_ids, game_markets, ['Pinnacle','BetMGM','Caesars'], include_player_name=False)\n"
   ]
  },
  {
   "cell_type": "code",
   "execution_count": 118,
   "id": "ad9a7349",
   "metadata": {},
   "outputs": [
    {
     "name": "stdout",
     "output_type": "stream",
     "text": [
      "540d8b29-e704-403d-9926-363d3d7fcaff\n"
     ]
    }
   ],
   "source": [
    "todays_ids = get_todays_game_ids()\n",
    "#pdf = fetch_player_props(game_ids=todays_ids)"
   ]
  },
  {
   "cell_type": "code",
   "execution_count": 107,
   "id": "7e371895",
   "metadata": {},
   "outputs": [],
   "source": [
    "#gdf = fetch_game_props(todays_ids)"
   ]
  },
  {
   "cell_type": "code",
   "execution_count": null,
   "id": "bc446735",
   "metadata": {},
   "outputs": [],
   "source": []
  }
 ],
 "metadata": {
  "kernelspec": {
   "display_name": "Python 3 (ipykernel)",
   "language": "python",
   "name": "python3"
  },
  "language_info": {
   "codemirror_mode": {
    "name": "ipython",
    "version": 3
   },
   "file_extension": ".py",
   "mimetype": "text/x-python",
   "name": "python",
   "nbconvert_exporter": "python",
   "pygments_lexer": "ipython3",
   "version": "3.11.4"
  }
 },
 "nbformat": 4,
 "nbformat_minor": 5
}
